{
 "cells": [
  {
   "cell_type": "code",
   "execution_count": 1,
   "metadata": {
    "collapsed": true
   },
   "outputs": [],
   "source": [
    "import pymongo\n",
    "import datetime"
   ]
  },
  {
   "cell_type": "code",
   "execution_count": 2,
   "metadata": {
    "collapsed": true
   },
   "outputs": [],
   "source": [
    "from pymongo import MongoClient"
   ]
  },
  {
   "cell_type": "code",
   "execution_count": 26,
   "metadata": {
    "collapsed": true
   },
   "outputs": [],
   "source": [
    "client = MongoClient('localhost', 3001)"
   ]
  },
  {
   "cell_type": "code",
   "execution_count": 27,
   "metadata": {
    "collapsed": false
   },
   "outputs": [
    {
     "data": {
      "text/plain": [
       "['local', 'meteor', 'admin', 'oplog']"
      ]
     },
     "execution_count": 27,
     "metadata": {},
     "output_type": "execute_result"
    }
   ],
   "source": [
    "client.database_names()"
   ]
  },
  {
   "cell_type": "code",
   "execution_count": 28,
   "metadata": {
    "collapsed": false
   },
   "outputs": [],
   "source": [
    "db = client['meteor']"
   ]
  },
  {
   "cell_type": "code",
   "execution_count": 29,
   "metadata": {
    "collapsed": false
   },
   "outputs": [
    {
     "data": {
      "text/plain": [
       "{'_id': ObjectId('56277c1526dcec99b2d9f546'),\n",
       " 'createdAt': datetime.datetime(2015, 10, 21, 11, 50, 45, 376000),\n",
       " 'text': 'Hello world!'}"
      ]
     },
     "execution_count": 29,
     "metadata": {},
     "output_type": "execute_result"
    }
   ],
   "source": [
    "db.tasks.find_one()"
   ]
  },
  {
   "cell_type": "code",
   "execution_count": 30,
   "metadata": {
    "collapsed": false
   },
   "outputs": [
    {
     "data": {
      "text/plain": [
       "<pymongo.results.InsertOneResult at 0x1030da750>"
      ]
     },
     "execution_count": 30,
     "metadata": {},
     "output_type": "execute_result"
    }
   ],
   "source": [
    "db.tasks.insert_one({\n",
    "        'text':'This is so cooool!!', \n",
    "         'createdAt': datetime.datetime.utcnow()})"
   ]
  },
  {
   "cell_type": "code",
   "execution_count": 31,
   "metadata": {
    "collapsed": false
   },
   "outputs": [
    {
     "data": {
      "text/plain": [
       "{'_id': ObjectId('56277c1526dcec99b2d9f546'),\n",
       " 'createdAt': datetime.datetime(2015, 10, 21, 11, 50, 45, 376000),\n",
       " 'text': 'Hello world!'}"
      ]
     },
     "execution_count": 31,
     "metadata": {},
     "output_type": "execute_result"
    }
   ],
   "source": [
    "db.tasks.find_one()"
   ]
  },
  {
   "cell_type": "code",
   "execution_count": 52,
   "metadata": {
    "collapsed": false
   },
   "outputs": [],
   "source": [
    "c = db.tasks.find_one()"
   ]
  },
  {
   "cell_type": "code",
   "execution_count": 54,
   "metadata": {
    "collapsed": false
   },
   "outputs": [],
   "source": [
    "id_task = c['_id']"
   ]
  },
  {
   "cell_type": "code",
   "execution_count": 59,
   "metadata": {
    "collapsed": false
   },
   "outputs": [],
   "source": [
    "c = db.tasks.find_one({'_id':id_task})"
   ]
  },
  {
   "cell_type": "code",
   "execution_count": 60,
   "metadata": {
    "collapsed": false
   },
   "outputs": [
    {
     "data": {
      "text/plain": [
       "{'_id': ObjectId('56277c1526dcec99b2d9f546'),\n",
       " 'createdAt': datetime.datetime(2015, 10, 21, 11, 50, 45, 376000),\n",
       " 'text': 'Hello world!'}"
      ]
     },
     "execution_count": 60,
     "metadata": {},
     "output_type": "execute_result"
    }
   ],
   "source": [
    "c\n"
   ]
  },
  {
   "cell_type": "code",
   "execution_count": 69,
   "metadata": {
    "collapsed": false
   },
   "outputs": [
    {
     "data": {
      "text/plain": [
       "<pymongo.results.UpdateResult at 0x10307c288>"
      ]
     },
     "execution_count": 69,
     "metadata": {},
     "output_type": "execute_result"
    }
   ],
   "source": [
    "id_task = c['_id']\n",
    "c = db.tasks.find_one({'_id':id_task})\n",
    "db.tasks.update_one({'_id':id_task}, {'$set':{'checked': not c['checked']}})"
   ]
  },
  {
   "cell_type": "code",
   "execution_count": 66,
   "metadata": {
    "collapsed": false
   },
   "outputs": [
    {
     "data": {
      "text/plain": [
       "True"
      ]
     },
     "execution_count": 66,
     "metadata": {},
     "output_type": "execute_result"
    }
   ],
   "source": [
    "c['checked']"
   ]
  },
  {
   "cell_type": "code",
   "execution_count": 42,
   "metadata": {
    "collapsed": false
   },
   "outputs": [
    {
     "data": {
      "text/plain": [
       "True"
      ]
     },
     "execution_count": 42,
     "metadata": {},
     "output_type": "execute_result"
    }
   ],
   "source": [
    "not False"
   ]
  },
  {
   "cell_type": "code",
   "execution_count": 19,
   "metadata": {
    "collapsed": false
   },
   "outputs": [
    {
     "name": "stdout",
     "output_type": "stream",
     "text": [
      "{'b': True, 'h': 2850120102508737644, 'op': 'd', 'v': 2, 'ts': Timestamp(1445455785, 1), 'o': {'_id': 'Xcofrb6NG9NJxMrve'}, 'ns': 'meteor.tasks'}\n",
      "{'b': True, 'h': -3603806923756763243, 'op': 'd', 'v': 2, 'ts': Timestamp(1445455786, 1), 'o': {'_id': 'cXj7ckQuk7GaKi9ZX'}, 'ns': 'meteor.tasks'}\n",
      "{'b': True, 'h': -6485658952882096832, 'op': 'd', 'v': 2, 'ts': Timestamp(1445455814, 1), 'o': {'_id': '6pFkPH86mjiHGWiDL'}, 'ns': 'meteor.tasks'}\n",
      "{'b': True, 'h': -4903190091061593135, 'op': 'd', 'v': 2, 'ts': Timestamp(1445455815, 1), 'o': {'_id': 'P3JPM5T2h9vu9P7pi'}, 'ns': 'meteor.tasks'}\n",
      "{'b': True, 'h': -4073152822309774540, 'op': 'd', 'v': 2, 'ts': Timestamp(1445455816, 1), 'o': {'_id': 'jjtsW9wsJoE5KGuEx'}, 'ns': 'meteor.tasks'}\n",
      "{'b': True, 'h': -254562609950481043, 'op': 'd', 'v': 2, 'ts': Timestamp(1445455817, 1), 'o': {'_id': 'SZrEijjWTpZ5dni4t'}, 'ns': 'meteor.tasks'}\n",
      "{'b': True, 'h': -203177227820494008, 'op': 'd', 'v': 2, 'ts': Timestamp(1445455823, 1), 'o': {'_id': 'vrKcgNed9GKG5cd7s'}, 'ns': 'meteor.tasks'}\n",
      "{'b': True, 'h': 3551604406417767273, 'op': 'd', 'v': 2, 'ts': Timestamp(1445455824, 1), 'o': {'_id': 'AGFN9biPM3KgWuKFj'}, 'ns': 'meteor.tasks'}\n",
      "{'b': True, 'h': 9075238464598758029, 'op': 'd', 'v': 2, 'ts': Timestamp(1445455824, 2), 'o': {'_id': '7m3bhW9Qkk2tyzi56'}, 'ns': 'meteor.tasks'}\n",
      "{'b': True, 'h': 6229988869394243786, 'op': 'd', 'v': 2, 'ts': Timestamp(1445455824, 3), 'o': {'_id': 'aQHbb8CPyMSNmFECb'}, 'ns': 'meteor.tasks'}\n",
      "{'b': True, 'h': -2907642003610550961, 'op': 'd', 'v': 2, 'ts': Timestamp(1445455829, 1), 'o': {'_id': 'mk3QN7yJWb7DfDTXk'}, 'ns': 'meteor.tasks'}\n",
      "{'b': True, 'h': -5652882810638576050, 'op': 'd', 'v': 2, 'ts': Timestamp(1445455830, 1), 'o': {'_id': 'hj2Mw8sozM2R67Ghy'}, 'ns': 'meteor.tasks'}\n",
      "{'b': True, 'h': 5014872409520687276, 'op': 'd', 'v': 2, 'ts': Timestamp(1445455830, 2), 'o': {'_id': '2mtY4kh8iMWHX6GYa'}, 'ns': 'meteor.tasks'}\n",
      "{'b': True, 'h': 2699380839312076885, 'op': 'd', 'v': 2, 'ts': Timestamp(1445455831, 1), 'o': {'_id': ObjectId('5627e6244a4768185d309a70')}, 'ns': 'meteor.tasks'}\n",
      "{'b': True, 'h': -7258749450298362991, 'op': 'd', 'v': 2, 'ts': Timestamp(1445455831, 2), 'o': {'_id': 'rvYbfzouGoNK4TC55'}, 'ns': 'meteor.tasks'}\n",
      "new task!\n",
      "{'o': {'$set': {'checked': True}}, 'h': 5395074733352293165, 'op': 'u', 'v': 2, 'o2': {'_id': 'YgqazF7DNL5x3p83p'}, 'ts': Timestamp(1445455901, 1), 'ns': 'meteor.tasks'}\n"
     ]
    },
    {
     "ename": "KeyboardInterrupt",
     "evalue": "",
     "output_type": "error",
     "traceback": [
      "\u001b[0;31m---------------------------------------------------------------------------\u001b[0m",
      "\u001b[0;31mKeyboardInterrupt\u001b[0m                         Traceback (most recent call last)",
      "\u001b[0;32m<ipython-input-19-1afcbf89f47e>\u001b[0m in \u001b[0;36m<module>\u001b[0;34m()\u001b[0m\n\u001b[1;32m     23\u001b[0m             \u001b[0;32mexcept\u001b[0m\u001b[0;34m:\u001b[0m\u001b[0;34m\u001b[0m\u001b[0m\n\u001b[1;32m     24\u001b[0m                 \u001b[0mprint\u001b[0m\u001b[0;34m(\u001b[0m\u001b[0mdoc\u001b[0m\u001b[0;34m)\u001b[0m\u001b[0;34m\u001b[0m\u001b[0m\n\u001b[0;32m---> 25\u001b[0;31m         \u001b[0mtime\u001b[0m\u001b[0;34m.\u001b[0m\u001b[0msleep\u001b[0m\u001b[0;34m(\u001b[0m\u001b[0;36m1\u001b[0m\u001b[0;34m)\u001b[0m\u001b[0;34m\u001b[0m\u001b[0m\n\u001b[0m",
      "\u001b[0;31mKeyboardInterrupt\u001b[0m: "
     ]
    }
   ],
   "source": [
    "import time\n",
    "\n",
    "import pymongo\n",
    "\n",
    "client = MongoClient('localhost', 3001)\n",
    "db = client['meteor'].tasks\n",
    "# Uncomment this for master/slave.\n",
    "# oplog = c.local.oplog['$main']\n",
    "# Uncomment this for replica sets.\n",
    "oplog = client.local.oplog.rs\n",
    "first = oplog.find().sort('$natural', pymongo.DESCENDING).limit(-1).next()\n",
    "ts = first['ts']\n",
    "\n",
    "while True:\n",
    "    cursor = oplog.find({'ts': {'$gt': ts}}, cursor_type=pymongo.cursor.CursorType.TAILABLE_AWAIT)\n",
    "    # oplogReplay flag - not exposed in the public API\n",
    "    cursor.add_option(8)\n",
    "    while cursor.alive:\n",
    "        for doc in cursor:\n",
    "            ts = doc['ts']\n",
    "            try:\n",
    "                print(doc['o']['text'])\n",
    "            except:\n",
    "                print(doc)\n",
    "        time.sleep(1)"
   ]
  },
  {
   "cell_type": "code",
   "execution_count": 15,
   "metadata": {
    "collapsed": true
   },
   "outputs": [],
   "source": [
    "oplog.find?"
   ]
  },
  {
   "cell_type": "code",
   "execution_count": null,
   "metadata": {
    "collapsed": true
   },
   "outputs": [],
   "source": []
  }
 ],
 "metadata": {
  "kernelspec": {
   "display_name": "Python 3",
   "language": "python",
   "name": "python3"
  },
  "language_info": {
   "codemirror_mode": {
    "name": "ipython",
    "version": 3
   },
   "file_extension": ".py",
   "mimetype": "text/x-python",
   "name": "python",
   "nbconvert_exporter": "python",
   "pygments_lexer": "ipython3",
   "version": "3.5.0"
  }
 },
 "nbformat": 4,
 "nbformat_minor": 0
}
